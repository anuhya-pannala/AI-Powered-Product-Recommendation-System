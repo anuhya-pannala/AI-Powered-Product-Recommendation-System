{
 "cells": [
  {
   "cell_type": "code",
   "execution_count": 1,
   "metadata": {},
   "outputs": [],
   "source": [
    "from sklearn.feature_extraction.text import TfidfVectorizer\n",
    "from sklearn.metrics.pairwise import cosine_similarity\n",
    "from db import fetch_table_data, get_engine, get_list_products\n",
    "# from db import get_list_products"
   ]
  },
  {
   "cell_type": "code",
   "execution_count": 8,
   "metadata": {},
   "outputs": [],
   "source": [
    "DB_FILE = \"sqlite:///D:/Study/Projects/BakedBot/baked_bot/backend/bakedbot.db\"\n",
    "engine = get_engine(DB_FILE)\n",
    "top_n = 5\n",
    "product_id = 1"
   ]
  },
  {
   "cell_type": "code",
   "execution_count": 3,
   "metadata": {},
   "outputs": [
    {
     "name": "stdout",
     "output_type": "stream",
     "text": [
      "inside fetch table data\n",
      "2025-02-21 21:27:23,277 INFO sqlalchemy.engine.Engine BEGIN (implicit)\n",
      "2025-02-21 21:27:23,278 INFO sqlalchemy.engine.Engine SELECT * FROM products\n",
      "2025-02-21 21:27:23,278 INFO sqlalchemy.engine.Engine [generated in 0.00089s] ()\n",
      "2025-02-21 21:27:23,280 INFO sqlalchemy.engine.Engine ROLLBACK\n"
     ]
    }
   ],
   "source": [
    "products = get_list_products(engine, mode=\"default\")"
   ]
  },
  {
   "cell_type": "code",
   "execution_count": 4,
   "metadata": {},
   "outputs": [
    {
     "data": {
      "text/plain": [
       "[{'id': 1,\n",
       "  'name': 'Valerian Root Infusion',\n",
       "  'type': 'snack',\n",
       "  'description': 'A soothing herbal blend designed for relaxation.',\n",
       "  'effects': ['mental clarity', 'energy boost'],\n",
       "  'ingredients': ['Valerian Root', 'Peppermint', 'Hibiscus', 'Green Tea'],\n",
       "  'price': 48.43,\n",
       "  'sales_data': \"{'units_sold': 140, 'last_month_revenue': 3047.9}\"},\n",
       " {'id': 2,\n",
       "  'name': 'Milk Thistle Infusion',\n",
       "  'type': 'supplement',\n",
       "  'description': 'A revitalizing drink for energy and focus.',\n",
       "  'effects': ['immune boost', 'antioxidant-rich'],\n",
       "  'ingredients': ['Milk Thistle', 'Ashwagandha'],\n",
       "  'price': 43.19,\n",
       "  'sales_data': \"{'units_sold': 74, 'last_month_revenue': 3383.85}\"},\n",
       " {'id': 3,\n",
       "  'name': 'Hibiscus Infusion',\n",
       "  'type': 'beverage',\n",
       "  'description': 'A digestive aid made from natural herbs.',\n",
       "  'effects': ['heart health', 'circulation'],\n",
       "  'ingredients': ['Hibiscus', 'Elderberry', 'Ashwagandha'],\n",
       "  'price': 35.27,\n",
       "  'sales_data': \"{'units_sold': 292, 'last_month_revenue': 1875.35}\"},\n",
       " {'id': 4,\n",
       "  'name': 'Lemon Balm Infusion',\n",
       "  'type': 'snack',\n",
       "  'description': 'A soothing herbal blend designed for relaxation.',\n",
       "  'effects': ['relaxation', 'stress relief'],\n",
       "  'ingredients': ['Lemon Balm', 'Thyme'],\n",
       "  'price': 28.14,\n",
       "  'sales_data': \"{'units_sold': 212, 'last_month_revenue': 2615.81}\"},\n",
       " {'id': 5,\n",
       "  'name': 'Ginseng Infusion',\n",
       "  'type': 'herbal extract',\n",
       "  'description': 'A powerful supplement for immunity boost.',\n",
       "  'effects': ['digestive support', 'soothing'],\n",
       "  'ingredients': ['Ginseng', 'Sage', 'Ashwagandha'],\n",
       "  'price': 36.87,\n",
       "  'sales_data': \"{'units_sold': 249, 'last_month_revenue': 3990.66}\"},\n",
       " {'id': 6,\n",
       "  'name': 'Sage Infusion',\n",
       "  'type': 'herbal extract',\n",
       "  'description': 'A digestive aid made from natural herbs.',\n",
       "  'effects': ['mental clarity', 'energy boost'],\n",
       "  'ingredients': ['Sage', 'Turmeric'],\n",
       "  'price': 22.4,\n",
       "  'sales_data': \"{'units_sold': 290, 'last_month_revenue': 2755.41}\"},\n",
       " {'id': 7,\n",
       "  'name': 'Milk Thistle Infusion',\n",
       "  'type': 'herbal extract',\n",
       "  'description': 'A powerful supplement for immunity boost.',\n",
       "  'effects': ['better sleep', 'calming'],\n",
       "  'ingredients': ['Milk Thistle', 'Thyme', 'Sage'],\n",
       "  'price': 49.46,\n",
       "  'sales_data': \"{'units_sold': 266, 'last_month_revenue': 2621.98}\"},\n",
       " {'id': 8,\n",
       "  'name': 'Green Tea Infusion',\n",
       "  'type': 'snack',\n",
       "  'description': 'A digestive aid made from natural herbs.',\n",
       "  'effects': ['heart health', 'circulation'],\n",
       "  'ingredients': ['Green Tea', 'Ginger'],\n",
       "  'price': 45.9,\n",
       "  'sales_data': \"{'units_sold': 189, 'last_month_revenue': 2964.86}\"},\n",
       " {'id': 9,\n",
       "  'name': 'Ginseng Infusion',\n",
       "  'type': 'herbal extract',\n",
       "  'description': 'A powerful supplement for immunity boost.',\n",
       "  'effects': ['better sleep', 'calming'],\n",
       "  'ingredients': ['Ginseng', 'Turmeric', 'Green Tea', 'Ashwagandha'],\n",
       "  'price': 20.67,\n",
       "  'sales_data': \"{'units_sold': 134, 'last_month_revenue': 1867.0}\"},\n",
       " {'id': 10,\n",
       "  'name': 'Thyme Infusion',\n",
       "  'type': 'herbal extract',\n",
       "  'description': 'A natural remedy for stress relief and relaxation.',\n",
       "  'effects': ['immune boost', 'antioxidant-rich'],\n",
       "  'ingredients': ['Thyme', 'Sage', 'Peppermint'],\n",
       "  'price': 14.92,\n",
       "  'sales_data': \"{'units_sold': 89, 'last_month_revenue': 3718.93}\"},\n",
       " {'id': 11,\n",
       "  'name': 'Elderberry Infusion',\n",
       "  'type': 'beverage',\n",
       "  'description': 'A natural remedy for stress relief and relaxation.',\n",
       "  'effects': ['relaxation', 'stress relief'],\n",
       "  'ingredients': ['Elderberry', 'Ginseng', 'Licorice Root'],\n",
       "  'price': 27.02,\n",
       "  'sales_data': \"{'units_sold': 213, 'last_month_revenue': 2306.13}\"},\n",
       " {'id': 12,\n",
       "  'name': 'Holy Basil Infusion',\n",
       "  'type': 'supplement',\n",
       "  'description': 'A detoxifying herbal infusion with antioxidants.',\n",
       "  'effects': ['cold relief', 'immune support'],\n",
       "  'ingredients': ['Holy Basil', 'Turmeric'],\n",
       "  'price': 36.44,\n",
       "  'sales_data': \"{'units_sold': 188, 'last_month_revenue': 4436.49}\"},\n",
       " {'id': 13,\n",
       "  'name': 'Turmeric Infusion',\n",
       "  'type': 'herbal extract',\n",
       "  'description': 'A detoxifying herbal infusion with antioxidants.',\n",
       "  'effects': ['metabolism boost', 'weight management'],\n",
       "  'ingredients': ['Turmeric', 'Ginseng'],\n",
       "  'price': 15.01,\n",
       "  'sales_data': \"{'units_sold': 217, 'last_month_revenue': 3026.58}\"},\n",
       " {'id': 14,\n",
       "  'name': 'Valerian Root Infusion',\n",
       "  'type': 'herbal extract',\n",
       "  'description': 'A soothing herbal blend designed for relaxation.',\n",
       "  'effects': ['relaxation', 'stress relief'],\n",
       "  'ingredients': ['Valerian Root', 'Chamomile', 'Sage'],\n",
       "  'price': 17.4,\n",
       "  'sales_data': \"{'units_sold': 206, 'last_month_revenue': 2965.19}\"},\n",
       " {'id': 15,\n",
       "  'name': 'Rosemary Infusion',\n",
       "  'type': 'beverage',\n",
       "  'description': 'A revitalizing drink for energy and focus.',\n",
       "  'effects': ['relaxation', 'stress relief'],\n",
       "  'ingredients': ['Rosemary', 'Licorice Root', 'Green Tea', 'Echinacea'],\n",
       "  'price': 36.66,\n",
       "  'sales_data': \"{'units_sold': 88, 'last_month_revenue': 4079.19}\"},\n",
       " {'id': 16,\n",
       "  'name': 'Green Tea Infusion',\n",
       "  'type': 'beverage',\n",
       "  'description': 'A digestive aid made from natural herbs.',\n",
       "  'effects': ['immune boost', 'antioxidant-rich'],\n",
       "  'ingredients': ['Green Tea', 'Echinacea'],\n",
       "  'price': 15.48,\n",
       "  'sales_data': \"{'units_sold': 254, 'last_month_revenue': 1822.3}\"},\n",
       " {'id': 17,\n",
       "  'name': 'Hibiscus Infusion',\n",
       "  'type': 'beverage',\n",
       "  'description': 'A detoxifying herbal infusion with antioxidants.',\n",
       "  'effects': ['cold relief', 'immune support'],\n",
       "  'ingredients': ['Hibiscus', 'Lavender', 'Peppermint', 'Ginseng'],\n",
       "  'price': 14.38,\n",
       "  'sales_data': \"{'units_sold': 210, 'last_month_revenue': 3023.06}\"},\n",
       " {'id': 18,\n",
       "  'name': 'Ginseng Infusion',\n",
       "  'type': 'supplement',\n",
       "  'description': 'A detoxifying herbal infusion with antioxidants.',\n",
       "  'effects': ['better sleep', 'calming'],\n",
       "  'ingredients': ['Ginseng', 'Peppermint', 'Ashwagandha', 'Turmeric'],\n",
       "  'price': 27.05,\n",
       "  'sales_data': \"{'units_sold': 206, 'last_month_revenue': 992.1}\"},\n",
       " {'id': 19,\n",
       "  'name': 'Chamomile Infusion',\n",
       "  'type': 'snack',\n",
       "  'description': 'A digestive aid made from natural herbs.',\n",
       "  'effects': ['detoxification', 'liver support'],\n",
       "  'ingredients': ['Chamomile', 'Ginger', 'Sage', 'Echinacea'],\n",
       "  'price': 26.73,\n",
       "  'sales_data': \"{'units_sold': 156, 'last_month_revenue': 3045.14}\"},\n",
       " {'id': 20,\n",
       "  'name': 'Hibiscus Infusion',\n",
       "  'type': 'supplement',\n",
       "  'description': 'A soothing herbal blend designed for relaxation.',\n",
       "  'effects': ['immune boost', 'antioxidant-rich'],\n",
       "  'ingredients': ['Hibiscus', 'Chamomile', 'Milk Thistle', 'Thyme'],\n",
       "  'price': 20.45,\n",
       "  'sales_data': \"{'units_sold': 104, 'last_month_revenue': 2263.97}\"},\n",
       " {'id': 21,\n",
       "  'name': 'Chamomile Infusion',\n",
       "  'type': 'beverage',\n",
       "  'description': 'A digestive aid made from natural herbs.',\n",
       "  'effects': ['immune boost', 'antioxidant-rich'],\n",
       "  'ingredients': ['Chamomile', 'Cinnamon'],\n",
       "  'price': 48.58,\n",
       "  'sales_data': \"{'units_sold': 128, 'last_month_revenue': 934.1}\"},\n",
       " {'id': 22,\n",
       "  'name': 'Sage Infusion',\n",
       "  'type': 'supplement',\n",
       "  'description': 'A natural remedy for stress relief and relaxation.',\n",
       "  'effects': ['digestive support', 'soothing'],\n",
       "  'ingredients': ['Sage', 'Echinacea', 'Thyme'],\n",
       "  'price': 46.35,\n",
       "  'sales_data': \"{'units_sold': 250, 'last_month_revenue': 3149.29}\"},\n",
       " {'id': 23,\n",
       "  'name': 'Sage Infusion',\n",
       "  'type': 'snack',\n",
       "  'description': 'A soothing herbal blend designed for relaxation.',\n",
       "  'effects': ['metabolism boost', 'weight management'],\n",
       "  'ingredients': ['Sage', 'Thyme', 'Licorice Root', 'Ginger'],\n",
       "  'price': 39.6,\n",
       "  'sales_data': \"{'units_sold': 200, 'last_month_revenue': 2388.1}\"},\n",
       " {'id': 24,\n",
       "  'name': 'Chamomile Infusion',\n",
       "  'type': 'snack',\n",
       "  'description': 'A detoxifying herbal infusion with antioxidants.',\n",
       "  'effects': ['anti-inflammatory', 'pain relief'],\n",
       "  'ingredients': ['Chamomile', 'Rosemary', 'Ginseng', 'Ginger'],\n",
       "  'price': 40.89,\n",
       "  'sales_data': \"{'units_sold': 292, 'last_month_revenue': 4820.95}\"},\n",
       " {'id': 25,\n",
       "  'name': 'Valerian Root Infusion',\n",
       "  'type': 'beverage',\n",
       "  'description': 'A powerful supplement for immunity boost.',\n",
       "  'effects': ['metabolism boost', 'weight management'],\n",
       "  'ingredients': ['Valerian Root', 'Holy Basil', 'Lemon Balm', 'Milk Thistle'],\n",
       "  'price': 32.68,\n",
       "  'sales_data': \"{'units_sold': 202, 'last_month_revenue': 905.11}\"},\n",
       " {'id': 26,\n",
       "  'name': 'Echinacea Infusion',\n",
       "  'type': 'supplement',\n",
       "  'description': 'A powerful supplement for immunity boost.',\n",
       "  'effects': ['mental clarity', 'energy boost'],\n",
       "  'ingredients': ['Echinacea', 'Turmeric', 'Sage', 'Cinnamon'],\n",
       "  'price': 48.02,\n",
       "  'sales_data': \"{'units_sold': 250, 'last_month_revenue': 1828.95}\"},\n",
       " {'id': 27,\n",
       "  'name': 'Ginseng Infusion',\n",
       "  'type': 'herbal extract',\n",
       "  'description': 'A digestive aid made from natural herbs.',\n",
       "  'effects': ['immune boost', 'antioxidant-rich'],\n",
       "  'ingredients': ['Ginseng', 'Ashwagandha', 'Green Tea'],\n",
       "  'price': 49.96,\n",
       "  'sales_data': \"{'units_sold': 104, 'last_month_revenue': 2084.57}\"},\n",
       " {'id': 28,\n",
       "  'name': 'Ginseng Infusion',\n",
       "  'type': 'supplement',\n",
       "  'description': 'A detoxifying herbal infusion with antioxidants.',\n",
       "  'effects': ['detoxification', 'liver support'],\n",
       "  'ingredients': ['Ginseng', 'Echinacea', 'Rosemary'],\n",
       "  'price': 32.55,\n",
       "  'sales_data': \"{'units_sold': 165, 'last_month_revenue': 2580.47}\"},\n",
       " {'id': 29,\n",
       "  'name': 'Hibiscus Infusion',\n",
       "  'type': 'herbal extract',\n",
       "  'description': 'A revitalizing drink for energy and focus.',\n",
       "  'effects': ['relaxation', 'stress relief'],\n",
       "  'ingredients': ['Hibiscus', 'Holy Basil'],\n",
       "  'price': 21.76,\n",
       "  'sales_data': \"{'units_sold': 268, 'last_month_revenue': 1081.01}\"},\n",
       " {'id': 30,\n",
       "  'name': 'Peppermint Infusion',\n",
       "  'type': 'supplement',\n",
       "  'description': 'A revitalizing drink for energy and focus.',\n",
       "  'effects': ['immune boost', 'antioxidant-rich'],\n",
       "  'ingredients': ['Peppermint', 'Valerian Root'],\n",
       "  'price': 33.6,\n",
       "  'sales_data': \"{'units_sold': 86, 'last_month_revenue': 2308.65}\"}]"
      ]
     },
     "execution_count": 4,
     "metadata": {},
     "output_type": "execute_result"
    }
   ],
   "source": [
    "products"
   ]
  },
  {
   "cell_type": "code",
   "execution_count": 21,
   "metadata": {},
   "outputs": [
    {
     "data": {
      "text/plain": [
       "[\"A soothing herbal blend designed for relaxation. ['mental clarity', 'energy boost'] ['Valerian Root', 'Peppermint', 'Hibiscus', 'Green Tea']\",\n",
       " \"A revitalizing drink for energy and focus. ['immune boost', 'antioxidant-rich'] ['Milk Thistle', 'Ashwagandha']\",\n",
       " \"A digestive aid made from natural herbs. ['heart health', 'circulation'] ['Hibiscus', 'Elderberry', 'Ashwagandha']\",\n",
       " \"A soothing herbal blend designed for relaxation. ['relaxation', 'stress relief'] ['Lemon Balm', 'Thyme']\",\n",
       " \"A powerful supplement for immunity boost. ['digestive support', 'soothing'] ['Ginseng', 'Sage', 'Ashwagandha']\"]"
      ]
     },
     "execution_count": 21,
     "metadata": {},
     "output_type": "execute_result"
    }
   ],
   "source": [
    "product_texts = [f\"{p['description']} {p['effects']} {p['ingredients']}\" for p in products]\n",
    "product_texts[:5]"
   ]
  },
  {
   "cell_type": "code",
   "execution_count": 22,
   "metadata": {},
   "outputs": [
    {
     "data": {
      "text/plain": [
       "30"
      ]
     },
     "execution_count": 22,
     "metadata": {},
     "output_type": "execute_result"
    }
   ],
   "source": [
    "len(product_texts)"
   ]
  },
  {
   "cell_type": "code",
   "execution_count": 23,
   "metadata": {},
   "outputs": [],
   "source": [
    "# Convert text data to TF-IDF vectors\n",
    "vectorizer = TfidfVectorizer(stop_words='english')\n",
    "tfidf_matrix = vectorizer.fit_transform(product_texts)"
   ]
  },
  {
   "cell_type": "code",
   "execution_count": 24,
   "metadata": {},
   "outputs": [
    {
     "data": {
      "text/plain": [
       "<Compressed Sparse Row sparse matrix of dtype 'float64'\n",
       "\twith 340 stored elements and shape (30, 69)>"
      ]
     },
     "execution_count": 24,
     "metadata": {},
     "output_type": "execute_result"
    }
   ],
   "source": [
    "tfidf_matrix"
   ]
  },
  {
   "cell_type": "code",
   "execution_count": 25,
   "metadata": {},
   "outputs": [],
   "source": [
    "# Get index of the input product\n",
    "product_index = next((i for i, p in enumerate(products) if p[\"id\"] == product_id), None)"
   ]
  },
  {
   "cell_type": "code",
   "execution_count": 26,
   "metadata": {},
   "outputs": [
    {
     "name": "stdout",
     "output_type": "stream",
     "text": [
      "0\n"
     ]
    }
   ],
   "source": [
    "print(product_index)"
   ]
  },
  {
   "cell_type": "code",
   "execution_count": 27,
   "metadata": {},
   "outputs": [
    {
     "data": {
      "text/plain": [
       "(<Compressed Sparse Row sparse matrix of dtype 'float64'\n",
       " \twith 15 stored elements and shape (1, 69)>,\n",
       " <Compressed Sparse Row sparse matrix of dtype 'float64'\n",
       " \twith 340 stored elements and shape (30, 69)>)"
      ]
     },
     "execution_count": 27,
     "metadata": {},
     "output_type": "execute_result"
    }
   ],
   "source": [
    "tfidf_matrix[product_index], tfidf_matrix"
   ]
  },
  {
   "cell_type": "code",
   "execution_count": 28,
   "metadata": {},
   "outputs": [
    {
     "name": "stdout",
     "output_type": "stream",
     "text": [
      "(30,)\n",
      "[1.         0.10006407 0.08182265 0.36896322 0.112679   0.36391734\n",
      " 0.0299142  0.14894337 0.17159886 0.1776411  0.14321949 0.04581553\n",
      " 0.08231759 0.53870917 0.30712078 0.20497792 0.20371127 0.12913272\n",
      " 0.         0.42201261 0.03529465 0.12851907 0.38356634 0.03972504\n",
      " 0.1690972  0.33037712 0.19720846 0.04655641 0.20719309 0.35738608]\n"
     ]
    }
   ],
   "source": [
    "# Compute cosine similarity\n",
    "similarity_scores = cosine_similarity(tfidf_matrix[product_index], tfidf_matrix).flatten()\n",
    "\n",
    "print(similarity_scores.shape)\n",
    "print(similarity_scores)"
   ]
  },
  {
   "cell_type": "code",
   "execution_count": 29,
   "metadata": {},
   "outputs": [
    {
     "name": "stdout",
     "output_type": "stream",
     "text": [
      "[13 19 22  3  5]\n"
     ]
    }
   ],
   "source": [
    "\n",
    "# Get top N similar product indices (excluding itself)\n",
    "similar_indices = similarity_scores.argsort()[-(top_n+1):-1][::-1]\n",
    "\n",
    "print(similar_indices)"
   ]
  },
  {
   "cell_type": "code",
   "execution_count": 30,
   "metadata": {},
   "outputs": [],
   "source": [
    "# Get recommended products\n",
    "recommendations = [{\"id\": products[i][\"id\"], \n",
    "                    \"name\": products[i][\"name\"], \n",
    "                    \"score\": float(similarity_scores[i])} for i in similar_indices]"
   ]
  },
  {
   "cell_type": "code",
   "execution_count": 34,
   "metadata": {},
   "outputs": [
    {
     "name": "stdout",
     "output_type": "stream",
     "text": [
      "recommendations for  {'id': 1, 'name': 'Valerian Root Infusion'}\n"
     ]
    },
    {
     "data": {
      "text/plain": [
       "[{'id': 14, 'name': 'Valerian Root Infusion', 'score': 0.538709172638395},\n",
       " {'id': 20, 'name': 'Hibiscus Infusion', 'score': 0.4220126099448059},\n",
       " {'id': 23, 'name': 'Sage Infusion', 'score': 0.3835663423182648},\n",
       " {'id': 4, 'name': 'Lemon Balm Infusion', 'score': 0.3689632198729137},\n",
       " {'id': 6, 'name': 'Sage Infusion', 'score': 0.36391733927055997}]"
      ]
     },
     "execution_count": 34,
     "metadata": {},
     "output_type": "execute_result"
    }
   ],
   "source": [
    "input_product = {\"id\": products[product_index][\"id\"], \n",
    "                    \"name\": products[product_index][\"name\"]}\n",
    "print(\"recommendations for \", input_product)\n",
    "recommendations"
   ]
  },
  {
   "cell_type": "code",
   "execution_count": 35,
   "metadata": {},
   "outputs": [
    {
     "data": {
      "text/plain": [
       "[\"A soothing herbal blend designed for relaxation. ['mental clarity', 'energy boost'] ['Valerian Root', 'Peppermint', 'Hibiscus', 'Green Tea']\",\n",
       " \"A revitalizing drink for energy and focus. ['immune boost', 'antioxidant-rich'] ['Milk Thistle', 'Ashwagandha']\",\n",
       " \"A digestive aid made from natural herbs. ['heart health', 'circulation'] ['Hibiscus', 'Elderberry', 'Ashwagandha']\",\n",
       " \"A soothing herbal blend designed for relaxation. ['relaxation', 'stress relief'] ['Lemon Balm', 'Thyme']\",\n",
       " \"A powerful supplement for immunity boost. ['digestive support', 'soothing'] ['Ginseng', 'Sage', 'Ashwagandha']\",\n",
       " \"A digestive aid made from natural herbs. ['mental clarity', 'energy boost'] ['Sage', 'Turmeric']\",\n",
       " \"A powerful supplement for immunity boost. ['better sleep', 'calming'] ['Milk Thistle', 'Thyme', 'Sage']\",\n",
       " \"A digestive aid made from natural herbs. ['heart health', 'circulation'] ['Green Tea', 'Ginger']\",\n",
       " \"A powerful supplement for immunity boost. ['better sleep', 'calming'] ['Ginseng', 'Turmeric', 'Green Tea', 'Ashwagandha']\",\n",
       " \"A natural remedy for stress relief and relaxation. ['immune boost', 'antioxidant-rich'] ['Thyme', 'Sage', 'Peppermint']\",\n",
       " \"A natural remedy for stress relief and relaxation. ['relaxation', 'stress relief'] ['Elderberry', 'Ginseng', 'Licorice Root']\",\n",
       " \"A detoxifying herbal infusion with antioxidants. ['cold relief', 'immune support'] ['Holy Basil', 'Turmeric']\",\n",
       " \"A detoxifying herbal infusion with antioxidants. ['metabolism boost', 'weight management'] ['Turmeric', 'Ginseng']\",\n",
       " \"A soothing herbal blend designed for relaxation. ['relaxation', 'stress relief'] ['Valerian Root', 'Chamomile', 'Sage']\",\n",
       " \"A revitalizing drink for energy and focus. ['relaxation', 'stress relief'] ['Rosemary', 'Licorice Root', 'Green Tea', 'Echinacea']\",\n",
       " \"A digestive aid made from natural herbs. ['immune boost', 'antioxidant-rich'] ['Green Tea', 'Echinacea']\",\n",
       " \"A detoxifying herbal infusion with antioxidants. ['cold relief', 'immune support'] ['Hibiscus', 'Lavender', 'Peppermint', 'Ginseng']\",\n",
       " \"A detoxifying herbal infusion with antioxidants. ['better sleep', 'calming'] ['Ginseng', 'Peppermint', 'Ashwagandha', 'Turmeric']\",\n",
       " \"A digestive aid made from natural herbs. ['detoxification', 'liver support'] ['Chamomile', 'Ginger', 'Sage', 'Echinacea']\",\n",
       " \"A soothing herbal blend designed for relaxation. ['immune boost', 'antioxidant-rich'] ['Hibiscus', 'Chamomile', 'Milk Thistle', 'Thyme']\",\n",
       " \"A digestive aid made from natural herbs. ['immune boost', 'antioxidant-rich'] ['Chamomile', 'Cinnamon']\",\n",
       " \"A natural remedy for stress relief and relaxation. ['digestive support', 'soothing'] ['Sage', 'Echinacea', 'Thyme']\",\n",
       " \"A soothing herbal blend designed for relaxation. ['metabolism boost', 'weight management'] ['Sage', 'Thyme', 'Licorice Root', 'Ginger']\",\n",
       " \"A detoxifying herbal infusion with antioxidants. ['anti-inflammatory', 'pain relief'] ['Chamomile', 'Rosemary', 'Ginseng', 'Ginger']\",\n",
       " \"A powerful supplement for immunity boost. ['metabolism boost', 'weight management'] ['Valerian Root', 'Holy Basil', 'Lemon Balm', 'Milk Thistle']\",\n",
       " \"A powerful supplement for immunity boost. ['mental clarity', 'energy boost'] ['Echinacea', 'Turmeric', 'Sage', 'Cinnamon']\",\n",
       " \"A digestive aid made from natural herbs. ['immune boost', 'antioxidant-rich'] ['Ginseng', 'Ashwagandha', 'Green Tea']\",\n",
       " \"A detoxifying herbal infusion with antioxidants. ['detoxification', 'liver support'] ['Ginseng', 'Echinacea', 'Rosemary']\",\n",
       " \"A revitalizing drink for energy and focus. ['relaxation', 'stress relief'] ['Hibiscus', 'Holy Basil']\",\n",
       " \"A revitalizing drink for energy and focus. ['immune boost', 'antioxidant-rich'] ['Peppermint', 'Valerian Root']\"]"
      ]
     },
     "execution_count": 35,
     "metadata": {},
     "output_type": "execute_result"
    }
   ],
   "source": [
    "product_texts"
   ]
  },
  {
   "cell_type": "code",
   "execution_count": null,
   "metadata": {},
   "outputs": [],
   "source": []
  }
 ],
 "metadata": {
  "kernelspec": {
   "display_name": ".venv",
   "language": "python",
   "name": "python3"
  },
  "language_info": {
   "codemirror_mode": {
    "name": "ipython",
    "version": 3
   },
   "file_extension": ".py",
   "mimetype": "text/x-python",
   "name": "python",
   "nbconvert_exporter": "python",
   "pygments_lexer": "ipython3",
   "version": "3.10.6"
  }
 },
 "nbformat": 4,
 "nbformat_minor": 2
}
